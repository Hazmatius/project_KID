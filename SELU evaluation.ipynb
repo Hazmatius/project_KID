{
 "cells": [
  {
   "cell_type": "code",
   "execution_count": null,
   "metadata": {},
   "outputs": [],
   "source": [
    "import torch\n",
    "import torch.nn as nn\n",
    "import torch.nn.functional as F\n",
    "import matplotlib.pyplot as plt\n",
    "import numpy as np\n",
    "\n",
    "class ALU(nn.Module):\n",
    "    def __init__(self):\n",
    "        super(ALU, self).__init__()\n",
    "        self.alpha = nn.Parameter(torch.tensor(1.6733))\n",
    "        self.beta = nn.Parameter(torch.tensor(1.0507))\n",
    "        \n",
    "    def forward(self, input):\n",
    "        return torch.where(input >= 0, self.beta * input, self.alpha * (torch.exp(input) - 1))\n",
    "    \n",
    "    \n",
    "class RaLU(nn.Module):\n",
    "    def __init__(self):\n",
    "        super(RaLU, self).__init__()\n",
    "        self.alpha = nn.Parameter(torch.tensor(-1.0))\n",
    "        self.beta = nn.Parameter(torch.tensor(1.0))\n",
    "        \n",
    "    def forward(self, input):\n",
    "        return torch.where(input >= self.alpha, self.beta * input, self.alpha)\n",
    "        # return F.threshold(self.beta*input, self.alpha.item(), self.alpha.item())\n",
    "        "
   ]
  },
  {
   "cell_type": "code",
   "execution_count": null,
   "metadata": {},
   "outputs": [],
   "source": [
    "ralu = RaLU()\n",
    "# print(ralu.alpha.data)\n",
    "x = torch.tensor(np.linspace(-4, 4, 100)).float()\n",
    "y = ralu(x)\n",
    "plt.plot(x.detach().numpy(), y.detach().numpy())"
   ]
  },
  {
   "cell_type": "code",
   "execution_count": null,
   "metadata": {},
   "outputs": [],
   "source": [
    "def run_experiment():\n",
    "    # ralu = ALU()\n",
    "    ralu = RaLU()\n",
    "    optimizer = torch.optim.Adam(ralu.parameters(), lr=0.001)\n",
    "    batches = 100\n",
    "    epochs = 1000\n",
    "\n",
    "    alphas = list()\n",
    "    lambds = list()\n",
    "\n",
    "    optimize = True\n",
    "\n",
    "    for j in range(epochs):\n",
    "        # n = np.random.choice([1, 3, 5, 7])\n",
    "        n = np.random.randint(1000)+1\n",
    "        fc = nn.Linear(n, n, bias=False)\n",
    "        # x = torch.randn(1, n) * torch.randn(1) * 10 + torch.rand(1)*10 - 5\n",
    "        # conv = nn.Conv2d(1, 1, n, padding=int((n-1)/2))\n",
    "        x = torch.randn(1, n) #  * torch.randn(1)*10 + torch.rand(1)*10-5\n",
    "        means = list()\n",
    "        stds = list()\n",
    "        y = x\n",
    "        for i in range(batches):\n",
    "            y = ralu(fc(y))\n",
    "            means.append(torch.mean(y))\n",
    "            stds.append(torch.std(y))\n",
    "        mean_loss = np.sum(np.abs(means))\n",
    "        std_loss = np.sum(np.abs([x-1 for x in stds]))\n",
    "        loss = (mean_loss + std_loss) / batches\n",
    "        if optimize and torch.std(y) != 0:\n",
    "            optimizer.zero_grad()\n",
    "            loss.backward()\n",
    "            old_alpha = ralu.alpha.item()\n",
    "            old_beta = ralu.beta.item()\n",
    "            optimizer.step()\n",
    "            reset = False\n",
    "            if torch.isnan(ralu.alpha):\n",
    "                ralu.alpha = nn.Parameter(torch.tensor(old_alpha))\n",
    "                reset = True\n",
    "            if torch.isnan(ralu.beta):\n",
    "                ralu.beta = nn.Parameter(torch.tensor(old_beta))\n",
    "                reset = True\n",
    "            if reset:\n",
    "                # print(' reset')\n",
    "                pass\n",
    "\n",
    "        alphas.append(ralu.alpha.detach().item())\n",
    "        lambds.append(ralu.beta.detach().item())\n",
    "        print('\\r' + str(j), end='')\n",
    "\n",
    "    # print(loss)\n",
    "    # print(mean_loss/batches)\n",
    "    # print(std_loss/batches)\n",
    "    # print()\n",
    "    print('\\r', ralu.alpha.detach().item(), ralu.beta.detach().item())"
   ]
  },
  {
   "cell_type": "code",
   "execution_count": null,
   "metadata": {},
   "outputs": [],
   "source": [
    "for i in range(100):\n",
    "    run_experiment()"
   ]
  },
  {
   "cell_type": "code",
   "execution_count": null,
   "metadata": {},
   "outputs": [],
   "source": [
    "plt.plot(torch.stack(means).detach().numpy(), torch.stack(stds).detach().numpy(), '-', c='black')\n",
    "plt.plot(torch.stack(means).detach().numpy(), torch.stack(stds).detach().numpy(), '.')\n",
    "plt.plot(means[0].detach(), stds[0].detach(), 'o')"
   ]
  },
  {
   "cell_type": "code",
   "execution_count": null,
   "metadata": {},
   "outputs": [],
   "source": [
    "plt.plot(alphas, lambds)\n",
    "plt.plot(alphas[0], lambds[0], 'o')"
   ]
  },
  {
   "cell_type": "code",
   "execution_count": null,
   "metadata": {},
   "outputs": [],
   "source": []
  }
 ],
 "metadata": {
  "kernelspec": {
   "display_name": "Python 3",
   "language": "python",
   "name": "python3"
  },
  "language_info": {
   "codemirror_mode": {
    "name": "ipython",
    "version": 3
   },
   "file_extension": ".py",
   "mimetype": "text/x-python",
   "name": "python",
   "nbconvert_exporter": "python",
   "pygments_lexer": "ipython3",
   "version": "3.6.5"
  }
 },
 "nbformat": 4,
 "nbformat_minor": 2
}
