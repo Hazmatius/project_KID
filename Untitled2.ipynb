{
 "cells": [
  {
   "cell_type": "code",
   "execution_count": 1,
   "metadata": {},
   "outputs": [],
   "source": [
    "import os\n",
    "import matplotlib.pyplot as plt\n",
    "from scipy import misc\n",
    "from skimage import io\n",
    "import time\n",
    "import torch\n",
    "import numpy as np\n",
    "import torch.nn as nn"
   ]
  },
  {
   "cell_type": "code",
   "execution_count": 2,
   "metadata": {},
   "outputs": [],
   "source": [
    "directory = '/Volumes/ALEX USB/project_KID/KID_memory/'\n",
    "files = os.listdir(directory)\n",
    "data = list()\n",
    "\n",
    "time = list()\n",
    "x_series = list()\n",
    "y_series = list()\n",
    "z_series = list()\n",
    "\n",
    "def prep_KID_img(arimg):\n",
    "    x = torch.tensor(arimg)\n",
    "    x = x[6:61, 29:84, :]\n",
    "    x = x.float()/255\n",
    "    x = x.transpose(0,2).transpose(1,2).unsqueeze(0)\n",
    "    return x"
   ]
  },
  {
   "cell_type": "code",
   "execution_count": 3,
   "metadata": {},
   "outputs": [
    {
     "name": "stdout",
     "output_type": "stream",
     "text": [
      "10000/10000     "
     ]
    }
   ],
   "source": [
    "file_count = 0\n",
    "for file in files:\n",
    "    filename = file[0:-4]\n",
    "    filename = filename.replace(' ', '')\n",
    "    filename = filename.replace(']', '')\n",
    "    filename = filename.split('[')\n",
    "    timestamp = int(filename[0])\n",
    "    command = filename[1]\n",
    "    command = command.split(',')\n",
    "    for i in range(len(command)):\n",
    "        command[i] = float(command[i])\n",
    "    img = io.imread(directory + file)\n",
    "    data_pointer = (timestamp, command, directory + file, prep_KID_img(img))\n",
    "    data.append(data_pointer)\n",
    "\n",
    "    time.append(timestamp)\n",
    "    x_series.append(command[0])\n",
    "    y_series.append(command[1])\n",
    "    z_series.append(command[2])\n",
    "    file_count+=1\n",
    "    print('\\r' + str(file_count) + '/' + str(len(files)) + '     ', end='')"
   ]
  },
  {
   "cell_type": "code",
   "execution_count": 4,
   "metadata": {},
   "outputs": [
    {
     "name": "stdout",
     "output_type": "stream",
     "text": [
      "torch.Size([1, 3, 55, 55])\n"
     ]
    },
    {
     "data": {
      "text/plain": [
       "<matplotlib.image.AxesImage at 0x12b377cf8>"
      ]
     },
     "execution_count": 4,
     "metadata": {},
     "output_type": "execute_result"
    },
    {
     "data": {
      "image/png": "[encoded data removed]",
      "text/plain": [
       "<Figure size 432x288 with 1 Axes>"
      ]
     },
     "metadata": {},
     "output_type": "display_data"
    }
   ],
   "source": [
    "print(data[0][3].shape)\n",
    "plt.imshow(data[50][3][0,:,:,:].transpose(0,2))"
   ]
  },
  {
   "cell_type": "code",
   "execution_count": 5,
   "metadata": {},
   "outputs": [],
   "source": [
    "def coutsz(insz, **kwargs):\n",
    "    kernel_size = kwargs['kernel_size']\n",
    "    padding = kwargs['padding']\n",
    "    stride = kwargs['stride']\n",
    "    dilation = kwargs['dilation']\n",
    "    ideal_outsize = ((insz+2*padding-dilation*(kernel_size-1)-1)/stride+1)\n",
    "    real_outsize = int(np.floor(ideal_outsize))\n",
    "    return real_outsize, ideal_outsize"
   ]
  },
  {
   "cell_type": "code",
   "execution_count": 6,
   "metadata": {},
   "outputs": [
    {
     "name": "stdout",
     "output_type": "stream",
     "text": [
      "(53, 53.0)\n",
      "(51, 51.0)\n",
      "(25, 25.0)\n",
      "(13, 13.0)\n",
      "(6, 6.0)\n"
     ]
    }
   ],
   "source": [
    "outsize = coutsz(55, kernel_size=3, padding=0, stride=1, dilation=1)\n",
    "print(outsize)\n",
    "outsize = coutsz(outsize[0], kernel_size=3, padding=0, stride=1, dilation=1)\n",
    "print(outsize)\n",
    "outsize = coutsz(outsize[0], kernel_size=5, padding=1, stride=2, dilation=1)\n",
    "print(outsize)\n",
    "outsize = coutsz(outsize[0], kernel_size=3, padding=1, stride=2, dilation=1)\n",
    "print(outsize)\n",
    "outsize = coutsz(outsize[0], kernel_size=3, padding=0, stride=2, dilation=1)\n",
    "print(outsize)"
   ]
  },
  {
   "cell_type": "code",
   "execution_count": 7,
   "metadata": {},
   "outputs": [],
   "source": [
    "from helpers import dict_prod"
   ]
  },
  {
   "cell_type": "code",
   "execution_count": 8,
   "metadata": {},
   "outputs": [],
   "source": [
    "dictionary = {\n",
    "    'a'\n",
    "}"
   ]
  },
  {
   "cell_type": "code",
   "execution_count": 9,
   "metadata": {},
   "outputs": [],
   "source": [
    "class KID_eye(nn.Module):\n",
    "    def __init__(self, **kwargs):\n",
    "        super(KID_eye, self).__init__()\n",
    "        self.conv1 = nn.Conv2d(3, 8, kernel_size=3, padding=0, stride=1, dilation=1)\n",
    "        self.conv2 = nn.Conv2d(8, 16, kernel_size=5, padding=0, stride=2, dilation=1)\n",
    "        self.conv3 = nn.Conv2d(16, 32, kernel_size=5, padding=0, stride=2, dilation=1)\n",
    "        self.conv4 = nn.Conv2d(32, 4, kernel_size=5, padding=0, stride=2, dilation=1)\n",
    "        \n",
    "        self.deconv4 = nn.ConvTranspose2d(4, 32, kernel_size=5, padding=0, stride=2, dilation=1)\n",
    "        self.deconv3 = nn.ConvTranspose2d(32, 16, kernel_size=5, padding=0, stride=2, dilation=1)\n",
    "        self.deconv2 = nn.ConvTranspose2d(16, 8, kernel_size=5, padding=0, stride=2, dilation=1)\n",
    "        self.deconv1 = nn.ConvTranspose2d(8, 3, kernel_size=3, padding=0, stride=1, dilation=1)\n",
    "        self.nonlin = nn.PReLU()\n",
    "        \n",
    "    def forward(self, x):\n",
    "        x = self.nonlin(self.conv1(x))\n",
    "        x = self.nonlin(self.conv2(x))\n",
    "        x = self.nonlin(self.conv3(x))\n",
    "        x = self.nonlin(self.conv4(x))\n",
    "        \n",
    "        x = self.nonlin(self.deconv4(x))\n",
    "        x = self.nonlin(self.deconv3(x))\n",
    "        x = self.nonlin(self.deconv2(x))\n",
    "        x = self.nonlin(self.deconv1(x))\n",
    "        \n",
    "        return x"
   ]
  },
  {
   "cell_type": "code",
   "execution_count": 10,
   "metadata": {},
   "outputs": [],
   "source": [
    "kideye = KID_eye()"
   ]
  },
  {
   "cell_type": "code",
   "execution_count": 11,
   "metadata": {},
   "outputs": [],
   "source": [
    "x = data[0][3]"
   ]
  },
  {
   "cell_type": "code",
   "execution_count": 12,
   "metadata": {},
   "outputs": [],
   "source": [
    "y = kideye(x)"
   ]
  },
  {
   "cell_type": "code",
   "execution_count": 13,
   "metadata": {},
   "outputs": [
    {
     "data": {
      "text/plain": [
       "torch.Size([1, 3, 55, 55])"
      ]
     },
     "execution_count": 13,
     "metadata": {},
     "output_type": "execute_result"
    }
   ],
   "source": [
    "x.shape"
   ]
  },
  {
   "cell_type": "code",
   "execution_count": 14,
   "metadata": {},
   "outputs": [
    {
     "data": {
      "text/plain": [
       "torch.Size([1, 3, 55, 55])"
      ]
     },
     "execution_count": 14,
     "metadata": {},
     "output_type": "execute_result"
    }
   ],
   "source": [
    "y.shape"
   ]
  },
  {
   "cell_type": "code",
   "execution_count": 15,
   "metadata": {},
   "outputs": [
    {
     "ename": "IndentationError",
     "evalue": "unexpected indent (<ipython-input-15-bb0dda2ce373>, line 2)",
     "output_type": "error",
     "traceback": [
      "\u001b[0;36m  File \u001b[0;32m\"<ipython-input-15-bb0dda2ce373>\"\u001b[0;36m, line \u001b[0;32m2\u001b[0m\n\u001b[0;31m    = np.sort([0,2,1])\u001b[0m\n\u001b[0m    ^\u001b[0m\n\u001b[0;31mIndentationError\u001b[0m\u001b[0;31m:\u001b[0m unexpected indent\n"
     ]
    }
   ],
   "source": [
    "import numpy as np\n",
    " = np.sort([0,2,1])"
   ]
  },
  {
   "cell_type": "code",
   "execution_count": null,
   "metadata": {},
   "outputs": [],
   "source": []
  }
 ],
 "metadata": {
  "kernelspec": {
   "display_name": "Python 3",
   "language": "python",
   "name": "python3"
  },
  "language_info": {
   "codemirror_mode": {
    "name": "ipython",
    "version": 3
   },
   "file_extension": ".py",
   "mimetype": "text/x-python",
   "name": "python",
   "nbconvert_exporter": "python",
   "pygments_lexer": "ipython3",
   "version": "3.6.7"
  }
 },
 "nbformat": 4,
 "nbformat_minor": 2
}
