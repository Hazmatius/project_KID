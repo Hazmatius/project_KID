{
 "cells": [
  {
   "cell_type": "code",
   "execution_count": null,
   "metadata": {
    "collapsed": true
   },
   "outputs": [],
   "source": [
    "# from IPython.core.display import display, HTML\n",
    "# display(HTML(\"<style>.container { width:100% !important; }</style>\"))\n",
    "\n",
    "import torch\n",
    "import gc    \n",
    "import os\n",
    "import sys\n",
    "%matplotlib notebook\n",
    "import matplotlib.pyplot as plt\n",
    "\n",
    "def printmem():\n",
    "    allocated = torch.cuda.memory_allocated()\n",
    "    cached = torch.cuda.memory_cached()\n",
    "    print('All|ocated:', str(allocated), '['+str(round(allocated/1000000000,3))+' GB]')\n",
    "    print('   Cached:', str(cached), '['+str(round(cached/1000000000,3))+' GB]')\n",
    "\n",
    "module_path = os.path.abspath(os.path.join('.'))\n",
    "if module_path not in sys.path:\n",
    "    sys.path.append(module_path)\n",
    "    \n",
    "printmem()\n",
    "\n"
   ]
  },
  {
   "cell_type": "code",
   "execution_count": null,
   "metadata": {
    "collapsed": true
   },
   "outputs": [],
   "source": [
    "config = {\n",
    "        \"model_params\": {\n",
    "            \"kernel_size\": 5,\n",
    "            \"padding\": 0,\n",
    "            \"dilation\": 2,\n",
    "            \"stride\": 1,\n",
    "            \"layer_dims\": [\n",
    "                29,\n",
    "                23,\n",
    "                16,\n",
    "                9,\n",
    "                3\n",
    "            ],\n",
    "            \"class_dim\": 2,\n",
    "            \"class_layers\": 1,\n",
    "            \"noise_std\": 0\n",
    "        },\n",
    "        \"train_params\": {\n",
    "            \"lr\": 0.01,\n",
    "            \"batch_size\": 99,\n",
    "            \"epochs\": 1,\n",
    "            \"report\": 5,\n",
    "            \"crop\": 81,\n",
    "            \"clip\": 1,\n",
    "            \"decay\": 0\n",
    "        },\n",
    "        \"trial_name\": \"8ad2k6WoeQtxmXbcDKtgPzwV5CetoBJ7\",\n",
    "        \"dataset_params\": {\n",
    "            \"data_dir\": \"/home/hazmat/Documents/mayonoise/data/\",\n",
    "            \"train_dir\": \"train/\",\n",
    "            \"test_dir\": \"test/\",\n",
    "            \"labels\": {\n",
    "                \"early\": 0,\n",
    "                \"late\": 1\n",
    "            },\n",
    "            \"crop\": 32,\n",
    "            \"scale\": 10,\n",
    "            \"stride\": 16\n",
    "        },\n",
    "        \"output_params\": {\n",
    "            \"hyper_dir\": \"/home/hazmat/Documents/mayonoise/hypersearch/\",\n",
    "            \"results_dir\": \"/home/hazmat/Documents/mayonoise/hypersearch/results/\"\n",
    "        },\n",
    "        \"loss_params\": {\n",
    "            \"lambdas\": [\n",
    "                1,\n",
    "                0.5,\n",
    "                0.25,\n",
    "                0.125,\n",
    "                0.0625\n",
    "            ]\n",
    "        }\n",
    "}"
   ]
  },
  {
   "cell_type": "code",
   "execution_count": null,
   "metadata": {
    "collapsed": true
   },
   "outputs": [],
   "source": []
  },
  {
   "cell_type": "code",
   "execution_count": null,
   "metadata": {
    "collapsed": true,
    "scrolled": false
   },
   "outputs": [],
   "source": [
    "# owlnet = OwlNet.load_model('/home/hazmat/Documents/mayonoise/hypersearch/results/IPjCNbjTOjY7goYijeW6IPy6FQvJJsTf/', 'trial_0model')\n",
    "# print(owlnet)"
   ]
  },
  {
   "cell_type": "code",
   "execution_count": null,
   "metadata": {
    "collapsed": true
   },
   "outputs": [],
   "source": [
    "from Criteria import OwlNetLoss\n",
    "from Helpers import Trainer\n",
    "from Helpers import Logger\n",
    "from Helpers import Trial\n",
    "from MIBI_Dataloader import MIBIData\n",
    "from Modules import OwlNet\n",
    "import Utils\n",
    "\n",
    "printmem()"
   ]
  },
  {
   "cell_type": "code",
   "execution_count": null,
   "metadata": {
    "collapsed": true,
    "scrolled": false
   },
   "outputs": [],
   "source": [
    "# Load the data\n",
    "main_dir = '/home/hazmat/Documents/mayonoise/'\n",
    "train_dir = main_dir + 'data/train/'\n",
    "test_dir = main_dir + 'data/test/'\n",
    "modl_dir = main_dir + 'models/'\n",
    "rslt_dir = main_dir + 'results/'\n",
    "labels = {\n",
    "    'early': torch.tensor([0]),\n",
    "    'late' : torch.tensor([1])\n",
    "}\n",
    "\n",
    "train_ds = MIBIData(folder=train_dir, labels=labels, crop=32, scale=10, stride=16)\n",
    "test_ds = MIBIData(folder=test_dir, labels=labels, crop=32, scale=10, stride=16)\n",
    "\n",
    "printmem()"
   ]
  },
  {
   "cell_type": "code",
   "execution_count": null,
   "metadata": {
    "collapsed": true
   },
   "outputs": [],
   "source": [
    "Trial.error_check(config, train_ds)"
   ]
  },
  {
   "cell_type": "code",
   "execution_count": null,
   "metadata": {
    "collapsed": true
   },
   "outputs": [],
   "source": [
    "trial = Trial(config, 0)"
   ]
  },
  {
   "cell_type": "code",
   "execution_count": null,
   "metadata": {
    "collapsed": true
   },
   "outputs": [],
   "source": [
    "trial.train(test_ds)"
   ]
  },
  {
   "cell_type": "code",
   "execution_count": null,
   "metadata": {
    "collapsed": true
   },
   "outputs": [],
   "source": [
    "trial.test(test_ds)"
   ]
  },
  {
   "cell_type": "code",
   "execution_count": null,
   "metadata": {
    "collapsed": true,
    "scrolled": false
   },
   "outputs": [],
   "source": [
    "# varbles = trial.model.ladder.variables[0]\n",
    "# print(varbles.keys())\n",
    "# for key in varbles.keys():\n",
    "#     print(key)\n",
    "#     print(varbles[key].shape)"
   ]
  },
  {
   "cell_type": "code",
   "execution_count": null,
   "metadata": {
    "collapsed": true,
    "scrolled": false
   },
   "outputs": [],
   "source": [
    "owlnet_args = dict()\n",
    "owlnet_args['kind'] = 'conv'\n",
    "\n",
    "owlnet_args['kernel_size'] = [3,3,3,3,3]\n",
    "owlnet_args['padding'] = [0,0,0,0,0]\n",
    "owlnet_args['dilation'] = [1,1,1,1,1]\n",
    "owlnet_args['stride'] = [1,1,1,1,1]\n",
    "\n",
    "owlnet_args['layer_dims'] = [29, 32, 17, 9, 3]\n",
    "# owlnet_args['num_layers'] = 5\n",
    "# owlnet_args['in_dim'] = 29\n",
    "owlnet_args['code_dim'] = 3\n",
    "\n",
    "owlnet_args['class_dim'] = 2\n",
    "owlnet_args['class_layers'] = 1\n",
    "\n",
    "owlnet_args['noise_std'] = .2\n",
    "\n",
    "torch.cuda.empty_cache()\n",
    "owlnet = OwlNet(**owlnet_args)\n",
    "\n",
    "owlnet.cuda()\n",
    "# print(owlnet)"
   ]
  },
  {
   "cell_type": "code",
   "execution_count": null,
   "metadata": {
    "collapsed": true
   },
   "outputs": [],
   "source": [
    "owlnet.ladder.suggested_in_size(20)"
   ]
  },
  {
   "cell_type": "code",
   "execution_count": null,
   "metadata": {
    "collapsed": true
   },
   "outputs": [],
   "source": [
    "owlnet_trainer = Trainer()\n",
    "owlnet_logger = Logger({'loss':(list(),list())})\n",
    "\n",
    "# LadderNet training parameters\n",
    "owlnet_train_args = dict()\n",
    "owlnet_train_args['lr'] = .05\n",
    "owlnet_train_args['batch_size'] = 99\n",
    "owlnet_train_args['epochs'] = 1\n",
    "owlnet_train_args['report'] = 5\n",
    "owlnet_train_args['crop'] = 81\n",
    "owlnet_train_args['clip'] = 1\n",
    "owlnet_train_args['decay'] = 0\n",
    "# LadderNet loss parameters\n",
    "owlnet_loss_args = {\n",
    "    'lambdas': [2**0, 2**-1, 2**-2, 2**-3, 2**-4]\n",
    "}\n",
    "\n",
    "train_ds.set_crop(owlnet_train_args['crop'])"
   ]
  },
  {
   "cell_type": "code",
   "execution_count": null,
   "metadata": {
    "collapsed": true
   },
   "outputs": [],
   "source": [
    "# owlnet_trainer.test(trial.model, train_ds, trial.criterion, trial.test_logger)"
   ]
  },
  {
   "cell_type": "code",
   "execution_count": null,
   "metadata": {
    "collapsed": true,
    "scrolled": false
   },
   "outputs": [],
   "source": [
    "# for layer in trial.model.ladder.variables:\n",
    "#     print(layer)"
   ]
  },
  {
   "cell_type": "code",
   "execution_count": null,
   "metadata": {
    "collapsed": true
   },
   "outputs": [],
   "source": [
    "lambdas = [2**0, 2**-1, 2**-2, 2**-3, 2**-4]\n",
    "print(lambdas)"
   ]
  },
  {
   "cell_type": "code",
   "execution_count": null,
   "metadata": {
    "collapsed": true,
    "scrolled": true
   },
   "outputs": [],
   "source": [
    "owlnet.set_noise_std(0.3)\n",
    "owlnet.set_lateral_weight(1)\n",
    "\n",
    "owlnet_criterion = OwlNetLoss(**owlnet_loss_args)\n",
    "owlnet_trainer.train(owlnet, train_ds, owlnet_criterion, owlnet_logger, **owlnet_train_args)\n",
    "print()\n",
    "torch.cuda.empty_cache()\n",
    "printmem()"
   ]
  },
  {
   "cell_type": "code",
   "execution_count": null,
   "metadata": {
    "collapsed": true
   },
   "outputs": [],
   "source": [
    "# torch.cuda.empty_cache()\n",
    "# printmem()\n",
    "varbls = owlnet.ladder.variables\n",
    "layer = 4\n",
    "for key in varbls[layer].keys():\n",
    "    print(varbls[layer][key].shape)"
   ]
  },
  {
   "cell_type": "code",
   "execution_count": null,
   "metadata": {
    "collapsed": true
   },
   "outputs": [],
   "source": [
    "import numpy as np\n",
    "log_error = np.log10(owlnet_logger.list_vars['loss'][1][100:])\n",
    "fig = plt.figure()\n",
    "plt.plot(log_error)\n",
    "plt.show()"
   ]
  },
  {
   "cell_type": "code",
   "execution_count": null,
   "metadata": {
    "collapsed": true
   },
   "outputs": [],
   "source": [
    "owlnet_logger.list_vars['loss'][0]\n",
    "epochs = owlnet_logger.list_vars['loss'][0]\n",
    "lossvals = owlnet_logger.list_vars['loss'][1]\n",
    "epochs = np.reshape(epochs, len(epochs), 1)\n",
    "np.average(lossvals[-100::])"
   ]
  },
  {
   "cell_type": "code",
   "execution_count": null,
   "metadata": {
    "collapsed": true
   },
   "outputs": [],
   "source": [
    "owlnet.eval()\n",
    "\n",
    "owlnet.set_lateral_weight(1)\n",
    "%matplotlib notebook\n",
    "import matplotlib.pyplot as plt\n",
    "import time\n",
    "print(1024/81)\n",
    "train_ds.set_crop(81*1)\n",
    "batch = train_ds.get_batch(1, False)\n",
    "output = owlnet(**batch)\n",
    "\n",
    "torch.cuda.empty_cache()\n",
    "printmem()"
   ]
  },
  {
   "cell_type": "code",
   "execution_count": null,
   "metadata": {
    "collapsed": true,
    "scrolled": false
   },
   "outputs": [],
   "source": [
    "def print_diff2(output, model, channel, size):\n",
    "    # we'going to show clean, noisy, recon, clean-recon, and noisy-recon\n",
    "    fig = plt.figure(figsize=(3*size, 2*size))\n",
    "    clean = output['clean'][0][0,channel,:,:].detach().cpu()\n",
    "    noisy = model.ladder.variables[0]['z_tilda'][0,channel,:,:].detach().cpu()\n",
    "    recon = output['recon'][0][0,channel,:,:].detach().cpu()\n",
    "    # plot clean\n",
    "    ax1 = plt.subplot(2,3,1)\n",
    "    ax1.imshow(clean.numpy())\n",
    "    plt.title('Clean')\n",
    "    \n",
    "    # plot noisy\n",
    "    ax2 = plt.subplot(2,3,2, sharex=ax1, sharey=ax1)\n",
    "    ax2.imshow(noisy.numpy())\n",
    "    plt.title('Noisy')\n",
    "    \n",
    "    # plot clean-recon\n",
    "    ax3 = plt.subplot(2,3,4, sharex=ax1, sharey=ax1)\n",
    "    ax3.imshow((recon-clean).numpy())\n",
    "    plt.title('Clean - Recon')\n",
    "    \n",
    "    # plot noisy-recon\n",
    "    ax4 = plt.subplot(2,3,5, sharex=ax1, sharey=ax1)\n",
    "    ax4.imshow((recon-noisy).numpy())\n",
    "    plt.title('Noisy - Recon')\n",
    "    \n",
    "    # plot recon\n",
    "    ax5 = plt.subplot(2,3,3, sharex=ax1, sharey=ax1)\n",
    "    ax5.imshow(recon.numpy())\n",
    "    plt.title('Recon')\n",
    "    \n",
    "    # plot adjustment\n",
    "    ax6 = plt.subplot(2,3,6, sharex=ax1, sharey=ax1)\n",
    "    noise = torch.abs(noisy-clean)\n",
    "    error = torch.abs(recon-clean)\n",
    "    ax6.imshow((error-noise).numpy(), cmap='bwr', vmin=-1, vmax=1)\n",
    "    plt.title('Adjustment')\n",
    "    \n",
    "    L1_noisy_loss = torch.mean(torch.abs(noisy-clean)).item()\n",
    "    L1_recon_loss = torch.mean(torch.abs(recon-clean)).item()\n",
    "    L2_noisy_loss = torch.mean((noisy-clean)**2).item()\n",
    "    L2_recon_loss = torch.mean((recon-clean)**2).item()\n",
    "    \n",
    "    print('L1 error:')\n",
    "    print('  Noisy:', L1_noisy_loss)\n",
    "    print('  Recon:', L1_recon_loss)\n",
    "    print('L2 error:')\n",
    "    print('  Noisy:', L2_noisy_loss)\n",
    "    print('  Recon:', L2_recon_loss)\n",
    "\n",
    "def print_diff(output, channel, size):\n",
    "    fig = plt.figure(figsize=(3*size, size))\n",
    "    ax1 = plt.subplot(1,3,1)\n",
    "    recon = output['recon'][0][0,channel,:,:].detach().cpu()\n",
    "    ax1.imshow(recon.numpy())\n",
    "    plt.title('Reconstruction')\n",
    "    \n",
    "    ax2 = plt.subplot(1,3,2, sharex=ax1, sharey=ax1)\n",
    "    original = output['clean'][0][0,channel,:,:].detach().cpu()\n",
    "    ax2.imshow(original.numpy())\n",
    "    plt.title('Original')\n",
    "    \n",
    "    ax3 = plt.subplot(1,3,3, sharex=ax1, sharey=ax1)\n",
    "    difference = output['clean'][0][0,channel,:,:].detach().cpu() - output['recon'][0][0,channel,:,:].detach().cpu()\n",
    "    ax3.imshow(difference.numpy())\n",
    "    plt.title('Difference')\n",
    "    fig.show()\n",
    "    \n",
    "    return recon, original, difference\n",
    "\n",
    "def print_encoding(output, level, channels, size):\n",
    "    print(output['recon'][level][0,:,:,:].shape)\n",
    "    if isinstance(channels, list):\n",
    "        if len(channels)==3:\n",
    "            fig = plt.figure(figsize=(2*size, size))\n",
    "            z = output['recon'][level][0,channels,:,:].transpose(0,1).transpose(1,2).detach().cpu().numpy()\n",
    "            \n",
    "            ax1 = plt.subplot(1,2,1)\n",
    "            ax1.imshow(z)\n",
    "            \n",
    "            from mpl_toolkits.mplot3d import Axes3D\n",
    "            data = torch.tensor(z)\n",
    "            a = data[:,:,0].view(-1).numpy()\n",
    "            b = data[:,:,1].view(-1).numpy()\n",
    "            c = data[:,:,2].view(-1).numpy()\n",
    "            ax2 = plt.subplot(1,2,2, projection='3d')\n",
    "            ax2.scatter(a, b, c)\n",
    "            fig.show()\n",
    "            \n",
    "        elif len(channels)==1:\n",
    "            fig = plt.figure(figsize=(size,size))\n",
    "            z = output['recon'][level][0,channels[0],:,:].detach().cpu().numpy()\n",
    "            plt.imshow(z)\n",
    "            fig.show()\n",
    "        else:\n",
    "            print('Invalid number of channels')\n",
    "    else:\n",
    "        fig = plt.figure(figsize=(size,size))\n",
    "        z = output['recon'][level][0,channels,:,:].detach().cpu().numpy()\n",
    "        plt.imshow(z)\n",
    "        fig.show()\n",
    "        print(z.shape)\n",
    "\n"
   ]
  },
  {
   "cell_type": "code",
   "execution_count": null,
   "metadata": {
    "collapsed": true,
    "scrolled": true
   },
   "outputs": [],
   "source": [
    "# print_encoding(output, 2, [0,1,2], 5)\n",
    "# recon0, orig0, diff0 = print_diff(output,0,4)\n",
    "print_diff2(output, owlnet, 0, 4)\n",
    "# plt.savefig('/home/hazmat/Documents/recon1.png')\n",
    "# printmem()\n",
    "# torch.cuda.empty_cache()\n",
    "# printmem()"
   ]
  },
  {
   "cell_type": "code",
   "execution_count": null,
   "metadata": {
    "collapsed": true,
    "scrolled": false
   },
   "outputs": [],
   "source": [
    "# print_encoding(output, 2, [0,1,2], 5)"
   ]
  },
  {
   "cell_type": "code",
   "execution_count": 10,
   "metadata": {
    "collapsed": true
   },
   "outputs": [],
   "source": [
    "import torch\n",
    "dropout = torch.nn.Dropout2d(.2)"
   ]
  },
  {
   "cell_type": "code",
   "execution_count": 41,
   "metadata": {},
   "outputs": [],
   "source": [
    "dropout.p=1"
   ]
  },
  {
   "cell_type": "code",
   "execution_count": 42,
   "metadata": {},
   "outputs": [
    {
     "data": {
      "text/plain": [
       "Dropout2d(p=1)"
      ]
     },
     "execution_count": 42,
     "metadata": {},
     "output_type": "execute_result"
    }
   ],
   "source": [
    "dropout"
   ]
  },
  {
   "cell_type": "code",
   "execution_count": 43,
   "metadata": {},
   "outputs": [
    {
     "name": "stdout",
     "output_type": "stream",
     "text": [
      "tensor([[[[0.8310, 0.1871, 0.8319, 0.7504],\n",
      "          [0.4018, 0.5867, 0.8822, 0.5751],\n",
      "          [0.1084, 0.0459, 0.6164, 0.9642],\n",
      "          [0.1311, 0.3166, 0.5580, 0.8395]],\n",
      "\n",
      "         [[0.6952, 0.5510, 0.4043, 0.4777],\n",
      "          [0.7361, 0.2930, 0.4668, 0.0102],\n",
      "          [0.4041, 0.8852, 0.4630, 0.9037],\n",
      "          [0.6476, 0.7397, 0.0135, 0.6652]]]])\n"
     ]
    }
   ],
   "source": [
    "temp = torch.rand([1,2,4,4])\n",
    "print(temp)"
   ]
  },
  {
   "cell_type": "code",
   "execution_count": 44,
   "metadata": {},
   "outputs": [
    {
     "data": {
      "text/plain": [
       "tensor([[[[0., 0., 0., 0.],\n",
       "          [0., 0., 0., 0.],\n",
       "          [0., 0., 0., 0.],\n",
       "          [0., 0., 0., 0.]],\n",
       "\n",
       "         [[0., 0., 0., 0.],\n",
       "          [0., 0., 0., 0.],\n",
       "          [0., 0., 0., 0.],\n",
       "          [0., 0., 0., 0.]]]])"
      ]
     },
     "execution_count": 44,
     "metadata": {},
     "output_type": "execute_result"
    }
   ],
   "source": [
    "dropout(temp)"
   ]
  },
  {
   "cell_type": "code",
   "execution_count": null,
   "metadata": {
    "collapsed": true
   },
   "outputs": [],
   "source": []
  }
 ],
 "metadata": {
  "kernelspec": {
   "display_name": "Python 3",
   "language": "python",
   "name": "python3"
  },
  "language_info": {
   "codemirror_mode": {
    "name": "ipython",
    "version": 3
   },
   "file_extension": ".py",
   "mimetype": "text/x-python",
   "name": "python",
   "nbconvert_exporter": "python",
   "pygments_lexer": "ipython3",
   "version": "3.6.8"
  }
 },
 "nbformat": 4,
 "nbformat_minor": 2
}
