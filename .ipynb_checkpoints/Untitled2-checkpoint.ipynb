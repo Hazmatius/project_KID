{
 "cells": [
  {
   "cell_type": "code",
   "execution_count": 1,
   "metadata": {},
   "outputs": [],
   "source": [
    "import os\n",
    "import matplotlib.pyplot as plt\n",
    "from scipy import misc\n",
    "from skimage import io\n",
    "import time"
   ]
  },
  {
   "cell_type": "code",
   "execution_count": 2,
   "metadata": {},
   "outputs": [],
   "source": [
    "directory = '/Volumes/ALEX USB/project_KID/KID_memory/'\n",
    "files = os.listdir(directory)\n",
    "data = list()\n",
    "\n",
    "time = list()\n",
    "x_series = list()\n",
    "y_series = list()\n",
    "z_series = list()"
   ]
  },
  {
   "cell_type": "code",
   "execution_count": 4,
   "metadata": {},
   "outputs": [],
   "source": [
    "for file in files:\n",
    "    filename = file[0:-4]\n",
    "    filename = filename.replace(' ', '')\n",
    "    filename = filename.replace(']', '')\n",
    "    filename = filename.split('[')\n",
    "    timestamp = int(filename[0])\n",
    "    command = filename[1]\n",
    "    command = command.split(',')\n",
    "    for i in range(len(command)):\n",
    "        command[i] = float(command[i])\n",
    "    data_pointer = (timestamp, command, directory + file, io.imread(directory + file))\n",
    "    data.append(data_pointer)\n",
    "\n",
    "    time.append(timestamp)\n",
    "    x_series.append(command[0])\n",
    "    y_series.append(command[1])\n",
    "    z_series.append(command[2])"
   ]
  },
  {
   "cell_type": "code",
   "execution_count": null,
   "metadata": {},
   "outputs": [],
   "source": []
  }
 ],
 "metadata": {
  "kernelspec": {
   "display_name": "Python 3",
   "language": "python",
   "name": "python3"
  },
  "language_info": {
   "codemirror_mode": {
    "name": "ipython",
    "version": 3
   },
   "file_extension": ".py",
   "mimetype": "text/x-python",
   "name": "python",
   "nbconvert_exporter": "python",
   "pygments_lexer": "ipython3",
   "version": "3.6.7"
  }
 },
 "nbformat": 4,
 "nbformat_minor": 2
}
