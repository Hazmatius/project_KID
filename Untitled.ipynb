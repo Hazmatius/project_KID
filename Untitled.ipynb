{
 "cells": [
  {
   "cell_type": "code",
   "execution_count": 82,
   "metadata": {
    "collapsed": true
   },
   "outputs": [],
   "source": [
    "import torch\n",
    "from torch.autograd import Variable\n",
    "import numpy as np\n",
    "import pylab as pl\n",
    "import torch.nn.init as init\n",
    "import torch.nn as nn"
   ]
  },
  {
   "cell_type": "code",
   "execution_count": 83,
   "metadata": {
    "collapsed": true
   },
   "outputs": [],
   "source": [
    "dtype = torch.FloatTensor\n",
    "input_size, hidden_size, output_size = 7, 6, 1\n",
    "epochs = 300\n",
    "seq_length = 20\n",
    "lr = 0.1"
   ]
  },
  {
   "cell_type": "code",
   "execution_count": 84,
   "metadata": {},
   "outputs": [],
   "source": [
    "data_time_steps = np.linspace(2, 10, seq_length + 1)\n",
    "data = np.sin(data_time_steps)\n",
    "data.resize((seq_length+1, 1))\n",
    "\n",
    "x = Variable(torch.Tensor(data[:-1]).type(dtype), requires_grad=False)\n",
    "y = Variable(torch.Tensor(data[1:]).type(dtype), requires_grad=False)"
   ]
  },
  {
   "cell_type": "code",
   "execution_count": 96,
   "metadata": {},
   "outputs": [],
   "source": [
    "class DSM(nn.Module):\n",
    "    def __init__(self):\n",
    "        super(DSM, self).__init__()\n",
    "        \n",
    "        self.fc1 = nn.Linear(7,6)\n",
    "        self.nonlin = nn.Tanh()\n",
    "        self.fc2 = nn.Linear(6,1)\n",
    "        \n",
    "        self.h = Variable(torch.zeros((1, hidden_size)).type(dtype), requires_grad=True)\n",
    "        \n",
    "    def forward(self, x):\n",
    "        xh = torch.cat((x, self.h),1)\n",
    "        self.h = self.nonlin(self.fc1(xh))\n",
    "        out = self.fc2(self.h)\n",
    "        return out\n",
    "\n",
    "    def reset(self):\n",
    "        self.h = Variable(torch.zeros((1, hidden_size)).type(dtype), requires_grad=True)"
   ]
  },
  {
   "cell_type": "code",
   "execution_count": 97,
   "metadata": {},
   "outputs": [],
   "source": [
    "dsm = DSM()\n",
    "crit = nn.MSELoss()\n",
    "optimizer = torch.optim.Adam(dsm.parameters(), lr=0.001)"
   ]
  },
  {
   "cell_type": "code",
   "execution_count": 99,
   "metadata": {},
   "outputs": [
    {
     "name": "stdout",
     "output_type": "stream",
     "text": [
      "Epoch: 0 loss 5.904499053955078\n",
      "Epoch: 100 loss 0.013150053098797798\n",
      "Epoch: 200 loss 0.006055887322872877\n",
      "Epoch: 300 loss 0.017625946551561356\n",
      "Epoch: 400 loss 0.01733282022178173\n",
      "Epoch: 500 loss 0.018374208360910416\n",
      "Epoch: 600 loss 0.01706775650382042\n",
      "Epoch: 700 loss 0.015707923099398613\n",
      "Epoch: 800 loss 0.014430258423089981\n",
      "Epoch: 900 loss 0.013144678436219692\n"
     ]
    }
   ],
   "source": [
    "epochs = 1000\n",
    "for i in range(epochs):\n",
    "    total_loss = 0\n",
    "    dsm.reset()\n",
    "    for j in range(x.size(0)):\n",
    "        input = x[j:(j+1)]\n",
    "        target = y[j:(j+1)]\n",
    "        pred = dsm(input)\n",
    "        loss = crit(target, pred)\n",
    "        total_loss += loss\n",
    "        loss.backward(retain_graph=True)\n",
    "        optimizer.step()\n",
    "        dsm.zero_grad()\n",
    "    if i % 100 == 0:\n",
    "        print(\"Epoch: {} loss {}\".format(i, total_loss.item()))"
   ]
  },
  {
   "cell_type": "code",
   "execution_count": 102,
   "metadata": {},
   "outputs": [],
   "source": [
    "context_state = Variable(torch.zeros((1, hidden_size)).type(dtype), requires_grad=False)\n",
    "predictions = []\n",
    "dsm.reset()\n",
    "for i in range(x.size(0)):\n",
    "  input = x[i:i+1]\n",
    "  pred = dsm(input)\n",
    "  context_state = context_state\n",
    "  predictions.append(pred.data.numpy().ravel()[0])"
   ]
  },
  {
   "cell_type": "code",
   "execution_count": 103,
   "metadata": {},
   "outputs": [
    {
     "data": {
      "image/png": "[encoded data removed]",
      "text/plain": [
       "<Figure size 432x288 with 1 Axes>"
      ]
     },
     "metadata": {},
     "output_type": "display_data"
    }
   ],
   "source": [
    "pl.plot(predictions, '.')\n",
    "pl.show()"
   ]
  },
  {
   "cell_type": "code",
   "execution_count": null,
   "metadata": {
    "collapsed": true
   },
   "outputs": [],
   "source": []
  },
  {
   "cell_type": "code",
   "execution_count": null,
   "metadata": {
    "collapsed": true
   },
   "outputs": [],
   "source": []
  }
 ],
 "metadata": {
  "kernelspec": {
   "display_name": "Python 3",
   "language": "python",
   "name": "python3"
  },
  "language_info": {
   "codemirror_mode": {
    "name": "ipython",
    "version": 3
   },
   "file_extension": ".py",
   "mimetype": "text/x-python",
   "name": "python",
   "nbconvert_exporter": "python",
   "pygments_lexer": "ipython3",
   "version": "3.6.8"
  }
 },
 "nbformat": 4,
 "nbformat_minor": 2
}
